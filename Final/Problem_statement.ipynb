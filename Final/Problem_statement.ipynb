{
 "cells": [
  {
   "attachments": {},
   "cell_type": "markdown",
   "metadata": {},
   "source": [
    "# Introduction\n",
    "\n",
    "For the final capstone project of the <a href = \"https://www.coursera.org/learn/applied-data-science-capstone\">Applied Data Science</a> unit, it's required to use the Foursquare API and some other data source to analyze a problem.\n",
    "\n",
    "Using the FourSquare API, I'm interested in amenities in rich and poor neighborhoods in the United States and to see if there is a measure of commonality or divergence and if so, how this commonality or diverence can be expressed.\n",
    "\n",
    "## Data used to solve the problem:\n",
    "\n",
    "It's necessary pull in some data about the wealth of the US in order for this analysis.  The Internal Revenue Service (IRS) publishes some data about the tax returns based on ZIP codes.\n",
    "\n",
    "<a href = \"https://www.irs.gov/statistics/soi-tax-stats-individual-income-tax-statistics-2017-zip-code-data-soi\">This information is located here at the IRS - Individual Income Tax Statistics</a>\n",
    "\n",
    "The average Adjusted Gross Income (AGI) of the taxpayers within a ZIP code will be used as a metric of wealth.\n",
    "\n",
    "ZIP Codes are not geographical, so it'll be necessary to lookup each ZIP code and get Geocode pairs.  I will use the Geocoders API or a lookup via a table like <a href = \"https://public.opendatasoft.com/explore/dataset/us-zip-code-latitude-and-longitude/table/\">this (OpenData)</a>\n",
    "\n",
    "The Four Square API can be used to lookup amentities given a latitude, longitude and tagged: Lexington, MA, 42120 (42.452895, -71.21619)\n",
    "\n",
    "FourSquare will report the number and type of amentities given this data.\n",
    "\n"
   ]
  }
 ],
 "metadata": {
  "kernelspec": {
   "display_name": "Python 3",
   "language": "python",
   "name": "python3"
  },
  "language_info": {
   "codemirror_mode": {
    "name": "ipython",
    "version": 3
   },
   "file_extension": ".py",
   "mimetype": "text/x-python",
   "name": "python",
   "nbconvert_exporter": "python",
   "pygments_lexer": "ipython3",
   "version": "3.7.3"
  }
 },
 "nbformat": 4,
 "nbformat_minor": 2
}
